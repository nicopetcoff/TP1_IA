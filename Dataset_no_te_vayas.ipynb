{
 "cells": [
  {
   "cell_type": "markdown",
   "metadata": {},
   "source": [
    "# Dataset: Cliente\n",
    "----"
   ]
  },
  {
   "cell_type": "markdown",
   "metadata": {},
   "source": [
    "Cada fila representa un cliente, cada columna contiene atributos de este. \n",
    "\n",
    "La columna *Churn* indica si el cliente dejo de utilizar el servicio o no.\n",
    "\n",
    "clientes | atributos\n",
    ":----:   | :----:\n",
    "7043     | 21\n"
   ]
  },
  {
   "cell_type": "markdown",
   "metadata": {},
   "source": [
    "# Variables\n",
    "\n",
    "Nombre   | Descripción  | Posibles valores\n",
    ":------- | :-----       | :---:\n",
    "customerID | Identificación del cliente |\n",
    "gender | Género del cliente |\n",
    "SeniorCitizen | Es un adulto mayor | (1,0)\n",
    "Partner | Tiene un socio | (Yes, No)\n",
    "Dependents | Tiene dependientes o no | (Yes, No)\n",
    "Tenure | Número de meses que el cliente permaneció en la empresa |\n",
    "PhoneService | Servicio de telefonía asociado | (Yes, No)\n",
    "MultipleLines | Si tiene múltiple líneas de telefonía | (Yes, No, No phone service)\n",
    "InternetService | Tipo de servicio de internet | (DSL, Fiber optic, No)\n",
    "OnlineSecurity | El cliente solicitó servicio de seguridad online | (Yes, No, No internet service)\n",
    "OnlineBackup | Servicio de backup online brindado | (Yes, No, No internet service)\n",
    "DeviceProtection | Servicio de protección de dispositivos móviles | (Yes, No, No internet service)\n",
    "TechSupport | Servicio de soporte extendido | (Yes, No, No internet service)\n",
    "StreamingTV | Servicio de streaming TV | (Yes, No, No internet service)\n",
    "StreamingMovies | Servicio de streaming de películas | (Yes, No, No internet service)\n",
    "Contract | Tipo de contrato, plazo | (Month-to-month, One year, Two year)\n",
    "PaperlessBilling | Factura online | (Yes, No)\n",
    "PaymentMethod | Método de pago | (Electronic check, Mailed check, Bank transfer (automatic), Credit card (automatic))\n",
    "MonthlyCharges | Valor facturado mensualmente |\n",
    "TotalCharges | Total facturado al cliente |\n",
    "Churn | El cliente se dio de baja del servicio | (Yes, No)"
   ]
  }
 ],
 "metadata": {
  "kernelspec": {
   "display_name": "Python 3.7.5 64-bit",
   "language": "python",
   "name": "python37564bitdd07daf68109432f8a93b5a5dcf3ce2d"
  },
  "language_info": {
   "codemirror_mode": {
    "name": "ipython",
    "version": 3
   },
   "file_extension": ".py",
   "mimetype": "text/x-python",
   "name": "python",
   "nbconvert_exporter": "python",
   "pygments_lexer": "ipython3",
   "version": "3.7.5"
  }
 },
 "nbformat": 4,
 "nbformat_minor": 4
}
